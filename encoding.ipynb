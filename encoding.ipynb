{
 "cells": [
  {
   "cell_type": "code",
   "execution_count": 2,
   "metadata": {},
   "outputs": [],
   "source": [
    "import torch\n",
    "import io\n",
    "import pickle as pkl"
   ]
  },
  {
   "cell_type": "code",
   "execution_count": 3,
   "metadata": {},
   "outputs": [],
   "source": [
    "with open('data/vocab/de.pkl', 'rb') as f:\n",
    "    de_vocab = pkl.load(f)\n",
    "\n",
    "with open('data/vocab/en.pkl', 'rb') as f:\n",
    "    en_vocab = pkl.load(f)"
   ]
  },
  {
   "cell_type": "code",
   "execution_count": 11,
   "metadata": {},
   "outputs": [],
   "source": [
    "def data_process(filepaths):\n",
    "    raw_de_iter = iter(io.open(filepaths[0], encoding=\"utf8\"))\n",
    "    raw_en_iter = iter(io.open(filepaths[1], encoding=\"utf8\"))\n",
    "    data = []\n",
    "    pack = 0\n",
    "    for i, (raw_de, raw_en) in enumerate(zip(raw_de_iter, raw_en_iter)):\n",
    "        code = next(de_vocab.transform([raw_de]))\n",
    "        de_tensor_ = torch.tensor(code, dtype=torch.long)\n",
    "        \n",
    "        code = next(en_vocab.transform([raw_en]))\n",
    "        en_tensor_ = torch.tensor(code, dtype=torch.long)\n",
    "        \n",
    "        data.append((de_tensor_, en_tensor_))\n",
    "        if len(data) == 1e5:\n",
    "            print('{}'.format(pack))\n",
    "            with open('data/train/' + str(pack) + '.pkl', 'wb+') as f:\n",
    "                pkl.dump(data, f)\n",
    "            pack += 1\n",
    "            data = []\n",
    "            \n",
    "    with open('data/train/' + str(pack), 'wb+') as f:\n",
    "        pkl.dump(data, f)\n",
    "    return"
   ]
  },
  {
   "cell_type": "code",
   "execution_count": 12,
   "metadata": {},
   "outputs": [
    {
     "name": "stdout",
     "output_type": "stream",
     "text": [
      "0\n",
      "1\n",
      "2\n",
      "3\n",
      "4\n",
      "5\n",
      "6\n",
      "7\n",
      "8\n",
      "9\n",
      "10\n",
      "11\n",
      "12\n",
      "13\n",
      "14\n",
      "15\n",
      "16\n",
      "17\n",
      "18\n",
      "19\n",
      "20\n",
      "21\n",
      "22\n",
      "23\n",
      "24\n",
      "25\n",
      "26\n",
      "27\n",
      "28\n",
      "29\n",
      "30\n",
      "31\n",
      "32\n",
      "33\n",
      "34\n",
      "35\n",
      "36\n",
      "37\n",
      "38\n",
      "39\n",
      "40\n",
      "41\n",
      "42\n",
      "43\n",
      "CPU times: user 15min 10s, sys: 17.2 s, total: 15min 27s\n",
      "Wall time: 15min 28s\n"
     ]
    }
   ],
   "source": [
    "%%time\n",
    "# len(X) = 4468839\n",
    "data_process(['data/source/train.de', 'data/source/train.en'])"
   ]
  },
  {
   "cell_type": "code",
   "execution_count": null,
   "metadata": {},
   "outputs": [],
   "source": []
  }
 ],
 "metadata": {
  "kernelspec": {
   "display_name": "Python 3",
   "language": "python",
   "name": "python3"
  },
  "language_info": {
   "codemirror_mode": {
    "name": "ipython",
    "version": 3
   },
   "file_extension": ".py",
   "mimetype": "text/x-python",
   "name": "python",
   "nbconvert_exporter": "python",
   "pygments_lexer": "ipython3",
   "version": "3.8.5"
  }
 },
 "nbformat": 4,
 "nbformat_minor": 5
}
